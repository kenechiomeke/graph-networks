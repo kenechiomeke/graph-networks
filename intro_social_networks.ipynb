{
 "cells": [
  {
   "cell_type": "markdown",
   "metadata": {},
   "source": [
    "## Social Networks Analysis in Python"
   ]
  },
  {
   "cell_type": "markdown",
   "metadata": {},
   "source": [
    "### Why Study Networks?\n",
    "\n",
    "* Centrality in networks can be used to model the impact of a node \n",
    "in the network. For instance, how likely a shock events starts will be\n",
    "widespread depending on the node from whence it started, such as if the\n",
    "node is at the centre of the network vs if it were towards the edges.\n",
    "A culture event could be a conflict, lockdown, etc.\n",
    "E.g. if there is an outbreak, which airports, train/bus stations should be locked down to curtail spread?\n",
    "\n"
   ]
  },
  {
   "cell_type": "code",
   "execution_count": null,
   "metadata": {},
   "outputs": [],
   "source": []
  },
  {
   "cell_type": "code",
   "execution_count": 1,
   "metadata": {},
   "outputs": [],
   "source": [
    "import networkx as nx"
   ]
  },
  {
   "cell_type": "markdown",
   "metadata": {},
   "source": [
    "#### Nodes and Edges\n",
    "\n",
    "\n",
    "In production networks, the edges can represent relationships between firms. The weight of the edges can represent transation values.\n"
   ]
  },
  {
   "cell_type": "markdown",
   "metadata": {},
   "source": [
    "### Directed vs undirected networks (asymmetric and symmetric networks)\n",
    "\n",
    "In directed networks, the order matters e.g. graph of eployees in a company and the number of emails sent. Since email represents sender/receiver relationship, it is directed.\n",
    "\n",
    "In undirected networks, the relationship is symmetrical and order is not important.\n",
    "\n",
    "To create **undirected networks**:\n",
    "\n",
    "`G = nx.Graph()`\n",
    "\n",
    "Add edges -- this automatically creates the nodes in nx\n",
    "\n",
    "`G.add_edge('A', 'B')`\n",
    "`G.add_edge('C', 'D')`\n",
    "\n",
    "Create **directed networks**:\n",
    "`G = nx.DiGraph()`\n",
    "`G.add_edge('A', 'B')` - goes from A to B\n",
    "`G.add_edge('C', 'D')`\n",
    "\n",
    "\n",
    "### Weighted vs unweighted networks\n",
    "Not all networks are of equal importantance. In **weighted** networks,\n",
    "the edges are assigned a numerical weight that has some meaning in the \n",
    "relationship. To assign, specify an additional weight arg when creating \n",
    "the edges.\n",
    "\n",
    "`G.add_edge('A', 'B', weight = 5)`\n",
    "`G.add_edge('C', 'D', weight = 45)`\n",
    "\n",
    "**Edges** can have many other attributes such as *relation* e.g. family, friend, coworker, \n",
    "\n",
    "\n",
    "### Multigraphs\n",
    "Here, two nodes are connected by multiple edges. E.g. one edge represents \n",
    "`relation = friend`, another `relation = coworker`, yet another`relation = neighbour`.\n",
    "\n",
    "To create a multigraph, instantiate the graph class as a multigraph:\n",
    "\n",
    "`G = nx.MultiGraph()`\n",
    "`G.add_edge('A', 'B', relation = 'coworker')`\n",
    "`G.add_edge('A', 'B', weight = 13, relation = 'family',)` \n",
    "`G.add_edge('A', 'B', relation = 'friend')`"
   ]
  },
  {
   "cell_type": "markdown",
   "metadata": {},
   "source": [
    "## Examples"
   ]
  },
  {
   "cell_type": "code",
   "execution_count": 7,
   "metadata": {},
   "outputs": [],
   "source": [
    "# Creating undirected graphs\n",
    "G = nx.Graph() #creating a graph object\n",
    "G.add_edge('A', 'B') \n",
    "G.add_edge('C', 'D')"
   ]
  },
  {
   "cell_type": "code",
   "execution_count": 5,
   "metadata": {},
   "outputs": [],
   "source": [
    "# Directed graphs\n",
    "G = nx.DiGraph() #creating a graph object\n",
    "G.add_edge('A', 'B')\n",
    "G.add_edge('C', 'D')"
   ]
  },
  {
   "cell_type": "code",
   "execution_count": 87,
   "metadata": {},
   "outputs": [
    {
     "data": {
      "text/plain": [
       "2"
      ]
     },
     "execution_count": 87,
     "metadata": {},
     "output_type": "execute_result"
    }
   ],
   "source": [
    "# Creating multigraphs\n",
    "G = nx.MultiGraph() #creating a graph object\n",
    "G.add_edge('A', 'B', relation = 'coworker')\n",
    "G.add_edge('A', 'B', weight = 13, relation = 'family')\n",
    "G.add_edge('A', 'B', relation = 'friend')\n"
   ]
  },
  {
   "cell_type": "code",
   "execution_count": 86,
   "metadata": {},
   "outputs": [],
   "source": [
    "# Creating undirected graphs with edge weights\n",
    "G.add_edge('A', 'B', weight = 5)\n",
    "G.add_edge('C', 'D', weight = 13)"
   ]
  },
  {
   "cell_type": "markdown",
   "metadata": {},
   "source": [
    "### Accessing Edges and Attributes of the network - undirected case"
   ]
  },
  {
   "cell_type": "code",
   "execution_count": 103,
   "metadata": {},
   "outputs": [
    {
     "data": {
      "text/plain": [
       "[('A', 'B'), ('C', 'D')]"
      ]
     },
     "execution_count": 103,
     "metadata": {},
     "output_type": "execute_result"
    }
   ],
   "source": [
    "# Create a graph object\n",
    "G = nx.Graph()\n",
    "\n",
    "# Add edges and attributes\n",
    "G.add_edge('A', 'B', weight = 5, relation = 'friend')\n",
    "G.add_edge('C', 'D', weight = 13)\n",
    "\n",
    "# List all edges of the network\n",
    "list(G.edges())\n"
   ]
  },
  {
   "cell_type": "code",
   "execution_count": 104,
   "metadata": {},
   "outputs": [
    {
     "data": {
      "text/plain": [
       "[('A', 'B'), ('C', 'D')]"
      ]
     },
     "execution_count": 104,
     "metadata": {},
     "output_type": "execute_result"
    }
   ],
   "source": [
    "# List all edges of a graph\n",
    "list(G.edges)"
   ]
  },
  {
   "cell_type": "code",
   "execution_count": 95,
   "metadata": {},
   "outputs": [
    {
     "data": {
      "text/plain": [
       "[('A', 'B', {'weight': 5, 'relation': 'friend'}), ('C', 'D', {'weight': 13})]"
      ]
     },
     "execution_count": 95,
     "metadata": {},
     "output_type": "execute_result"
    }
   ],
   "source": [
    "# List all edges and attributes\n",
    "list(G.edges(data = True))"
   ]
  },
  {
   "cell_type": "code",
   "execution_count": 96,
   "metadata": {},
   "outputs": [
    {
     "data": {
      "text/plain": [
       "[('E', 'F', 'fam')]"
      ]
     },
     "execution_count": 96,
     "metadata": {},
     "output_type": "execute_result"
    }
   ],
   "source": [
    "\n",
    "# create a graph object\n",
    "K = nx.Graph()\n",
    "\n",
    "# Add edges to the graph\n",
    "K.add_edge('E', 'F', weight = 13, relation = 'fam')\n",
    "\n",
    "# List edges where the edges have a particular attribute\n",
    "list(K.edges(data = 'relation'))"
   ]
  },
  {
   "cell_type": "code",
   "execution_count": 105,
   "metadata": {},
   "outputs": [
    {
     "data": {
      "text/plain": [
       "{'weight': 5, 'relation': 'friend'}"
      ]
     },
     "execution_count": 105,
     "metadata": {},
     "output_type": "execute_result"
    }
   ],
   "source": [
    "\n",
    "# create a graph object\n",
    "N = nx.Graph()\n",
    "\n",
    "# Add edges and attributes\n",
    "N.add_edge('A', 'B', weight = 5, relation = 'friend')\n",
    "\n",
    "# List attributes of given edges of interest\n",
    "N.edges['A', 'B']\n",
    "\n",
    "# NOTE: `N.edges['A', 'B']` will return an error if I created other nodes of G as follows: `G.add_edge('A', 'B', weight = 5, relation = 'friend')`"
   ]
  },
  {
   "cell_type": "code",
   "execution_count": 98,
   "metadata": {},
   "outputs": [
    {
     "data": {
      "text/plain": [
       "5"
      ]
     },
     "execution_count": 98,
     "metadata": {},
     "output_type": "execute_result"
    }
   ],
   "source": [
    "#Create a graph object\n",
    "J = nx.Graph()\n",
    "\n",
    "# List attributes of given edges of interest\n",
    "J.add_edge('P', 'Q', weight = 5, relation = 'friend')\n",
    "\n",
    "# Return named attributes \n",
    "J.edges['P', 'Q']['weight']"
   ]
  },
  {
   "cell_type": "code",
   "execution_count": 99,
   "metadata": {},
   "outputs": [],
   "source": [
    "# Remove edges from a graph\n",
    "\n",
    "G.remove_edge('A', 'B')"
   ]
  },
  {
   "cell_type": "code",
   "execution_count": 100,
   "metadata": {},
   "outputs": [],
   "source": [
    "G.remove_edge('C', 'D')"
   ]
  },
  {
   "cell_type": "markdown",
   "metadata": {},
   "source": [
    "### Accessing Edges and Attributes of the network - directed graphs"
   ]
  },
  {
   "cell_type": "code",
   "execution_count": 120,
   "metadata": {},
   "outputs": [
    {
     "data": {
      "text/plain": [
       "5"
      ]
     },
     "execution_count": 120,
     "metadata": {},
     "output_type": "execute_result"
    }
   ],
   "source": [
    "#Create a graph object\n",
    "Z = nx.DiGraph()\n",
    "\n",
    "# Add edges\n",
    "Z.add_edge('P', 'Q', weight = 5, relation = 'friend')\n",
    "\n",
    "# Return named attributes \n",
    "Z.edges['P', 'Q']['weight']\n",
    "\n",
    "# If order of the edges were reversed, an error ensues e.g.\n",
    "# Z.edges['Q', 'P']['weight'] #results in a KeyError 'P'"
   ]
  },
  {
   "cell_type": "markdown",
   "metadata": {},
   "source": [
    "### Accessing Edges and Attributes of the network - Multigraphs"
   ]
  },
  {
   "cell_type": "markdown",
   "metadata": {},
   "source": [
    "#### Undirected Case"
   ]
  },
  {
   "cell_type": "code",
   "execution_count": 108,
   "metadata": {},
   "outputs": [
    {
     "data": {
      "text/plain": [
       "0"
      ]
     },
     "execution_count": 108,
     "metadata": {},
     "output_type": "execute_result"
    }
   ],
   "source": [
    "# Create multigraph object\n",
    "\n",
    "M = nx.MultiGraph()\n",
    "\n",
    "# Add edges\n",
    "M.add_edge('A', 'B', weight = 5, relation = 'friend')\n",
    "M.add_edge('A', 'B', weight = 12, relation = 'family')\n",
    "M.add_edge('C', 'B', weight = 7, relation = 'colleague')"
   ]
  },
  {
   "cell_type": "code",
   "execution_count": 110,
   "metadata": {},
   "outputs": [
    {
     "data": {
      "text/plain": [
       "{0: {'weight': 5, 'relation': 'friend'},\n",
       " 1: {'weight': 12, 'relation': 'family'}}"
      ]
     },
     "execution_count": 110,
     "metadata": {},
     "output_type": "execute_result"
    }
   ],
   "source": [
    "# Access edge attributes\n",
    "dict(M['A']['B']) #returns a dictionary of attributes per (A,B) edge"
   ]
  },
  {
   "cell_type": "code",
   "execution_count": 112,
   "metadata": {},
   "outputs": [
    {
     "data": {
      "text/plain": [
       "{'weight': 5, 'relation': 'friend'}"
      ]
     },
     "execution_count": 112,
     "metadata": {},
     "output_type": "execute_result"
    }
   ],
   "source": [
    "# Return specific attribute for a selected edge e.g. first edge [0]\n",
    "\n",
    "# M['A']['B'] # returns attributes for all (A,B) edges\n",
    "\n",
    "M['A']['B'][0] #returns attributes for the first (A,B) edge\n"
   ]
  },
  {
   "cell_type": "markdown",
   "metadata": {},
   "source": [
    "#### - Directed Case"
   ]
  },
  {
   "cell_type": "code",
   "execution_count": 132,
   "metadata": {},
   "outputs": [
    {
     "data": {
      "text/plain": [
       "0"
      ]
     },
     "execution_count": 132,
     "metadata": {},
     "output_type": "execute_result"
    }
   ],
   "source": [
    "# Create a directed multigraph object\n",
    "D = nx.MultiDiGraph()\n",
    "\n",
    "# Add edges and attributes\n",
    "D.add_edge('A', 'B', weight = 5, relation = 'friend')\n",
    "D.add_edge('A', 'B', weight = 12, relation = 'family')\n",
    "D.add_edge('C', 'B', weight = 6, relation = 'colleague')\n"
   ]
  },
  {
   "cell_type": "code",
   "execution_count": 135,
   "metadata": {},
   "outputs": [
    {
     "data": {
      "text/plain": [
       "OutMultiEdgeView([('A', 'B', 0), ('A', 'B', 1), ('C', 'B', 0)])"
      ]
     },
     "execution_count": 135,
     "metadata": {},
     "output_type": "execute_result"
    }
   ],
   "source": [
    "D.edges"
   ]
  },
  {
   "cell_type": "code",
   "execution_count": 137,
   "metadata": {},
   "outputs": [
    {
     "data": {
      "text/plain": [
       "5"
      ]
     },
     "execution_count": 137,
     "metadata": {},
     "output_type": "execute_result"
    }
   ],
   "source": [
    "# Access edges and attributes\n",
    "D['A']['B'][0]['weight']"
   ]
  },
  {
   "cell_type": "code",
   "execution_count": 139,
   "metadata": {},
   "outputs": [],
   "source": [
    "# Access edges - inverse direction\n",
    "# D['B']['A'][0]['weight'] #KeyError 'A' due to directed case"
   ]
  },
  {
   "cell_type": "code",
   "execution_count": null,
   "metadata": {},
   "outputs": [],
   "source": []
  },
  {
   "cell_type": "markdown",
   "metadata": {},
   "source": [
    "## Attributes of Nodes\n",
    "\n",
    "It's possible to add attributes of nodes, instead of just those of edges. Note that so far, nodes have been created implictly through\n",
    "the creation of edges. To add attributes however, the nodes need to be created explicitly."
   ]
  },
  {
   "cell_type": "markdown",
   "metadata": {},
   "source": []
  },
  {
   "cell_type": "code",
   "execution_count": 140,
   "metadata": {},
   "outputs": [],
   "source": [
    "# Create a graph object\n",
    "G = nx.Graph()\n",
    "\n",
    "# Add edges and attributes\n",
    "G.add_edge('A', 'B', weight = 5, relation = 'friend')\n",
    "G.add_edge('B', 'C', weight = 13, relation = 'family')\n",
    "\n",
    "# Add node attributes\n",
    "G.add_node('A', role = 'scientist')\n",
    "G.add_node('B', role = 'teacher')\n",
    "G.add_node('C', role = 'banker')\n",
    "\n"
   ]
  },
  {
   "cell_type": "markdown",
   "metadata": {},
   "source": [
    "### Accessing node attributes"
   ]
  },
  {
   "cell_type": "code",
   "execution_count": 141,
   "metadata": {},
   "outputs": [
    {
     "data": {
      "text/plain": [
       "NodeView(('A', 'B', 'C'))"
      ]
     },
     "execution_count": 141,
     "metadata": {},
     "output_type": "execute_result"
    }
   ],
   "source": [
    "# List all nodes\n",
    "G.nodes"
   ]
  },
  {
   "cell_type": "code",
   "execution_count": 142,
   "metadata": {},
   "outputs": [
    {
     "data": {
      "text/plain": [
       "NodeDataView({'A': {'role': 'scientist'}, 'B': {'role': 'teacher'}, 'C': {'role': 'banker'}})"
      ]
     },
     "execution_count": 142,
     "metadata": {},
     "output_type": "execute_result"
    }
   ],
   "source": [
    "# List nodes and node attributes\n",
    "G.nodes(data=True)"
   ]
  },
  {
   "cell_type": "code",
   "execution_count": 144,
   "metadata": {},
   "outputs": [
    {
     "data": {
      "text/plain": [
       "[('A', {'role': 'scientist'}),\n",
       " ('B', {'role': 'teacher'}),\n",
       " ('C', {'role': 'banker'})]"
      ]
     },
     "execution_count": 144,
     "metadata": {},
     "output_type": "execute_result"
    }
   ],
   "source": [
    "# List nodes and node attributes\n",
    "list(G.nodes(data=True))"
   ]
  },
  {
   "cell_type": "code",
   "execution_count": 148,
   "metadata": {},
   "outputs": [
    {
     "data": {
      "text/plain": [
       "'scientist'"
      ]
     },
     "execution_count": 148,
     "metadata": {},
     "output_type": "execute_result"
    }
   ],
   "source": [
    "# Access role of a particular node\n",
    "G.nodes['A']['role']"
   ]
  },
  {
   "cell_type": "code",
   "execution_count": null,
   "metadata": {},
   "outputs": [],
   "source": []
  }
 ],
 "metadata": {
  "kernelspec": {
   "display_name": "Python 3",
   "language": "python",
   "name": "python3"
  },
  "language_info": {
   "codemirror_mode": {
    "name": "ipython",
    "version": 3
   },
   "file_extension": ".py",
   "mimetype": "text/x-python",
   "name": "python",
   "nbconvert_exporter": "python",
   "pygments_lexer": "ipython3",
   "version": "3.8.10"
  }
 },
 "nbformat": 4,
 "nbformat_minor": 4
}
