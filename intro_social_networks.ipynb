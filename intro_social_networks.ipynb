{
 "cells": [
  {
   "cell_type": "markdown",
   "metadata": {},
   "source": [
    "## Social Networks Analysis in Python"
   ]
  },
  {
   "cell_type": "markdown",
   "metadata": {},
   "source": [
    "### Why Study Networks?\n",
    "\n",
    "* Centrality in networks can be used to model the impact of a node \n",
    "in the network. For instance, how widespread a shock event will be depending on the node from whence it started, such as if the\n",
    "node is at the centre of the network vs if it were towards the edges.\n",
    "\n",
    "A shock event could be a conflict, lockdown, etc. E.g. if there is an outbreak, which airports, train/bus stations should be locked down to curtail spread?\n",
    "\n"
   ]
  },
  {
   "cell_type": "code",
   "execution_count": 4,
   "metadata": {},
   "outputs": [],
   "source": [
    "import networkx as nx\n",
    "import numpy as np\n",
    "import matplotlib.pyplot as plt\n",
    "from networkx.algorithms import bipartite"
   ]
  },
  {
   "cell_type": "markdown",
   "metadata": {},
   "source": [
    "#### Nodes and Edges\n",
    "\n",
    "\n",
    "Edges are the connections between nodes or vertices. In production networks, the edges can represent relationships between firms. The weight of the edges can represent transation values.\n"
   ]
  },
  {
   "cell_type": "markdown",
   "metadata": {},
   "source": [
    "### Directed vs undirected networks (asymmetric and symmetric networks)\n",
    "\n",
    "In directed networks, the order matters e.g. graph of eployees in a company and the number of emails sent. Since email represents sender/receiver relationship that must specify who the sender and receiver are, email networks are *directed*.\n",
    "\n",
    "In undirected networks, the relationship is symmetrical and order is not important.\n",
    "\n",
    "To create **undirected networks**:\n",
    "\n",
    "`G = nx.Graph()`\n",
    "\n",
    "Add edges -- this automatically creates the nodes in nx\n",
    "\n",
    "`G.add_edge('A', 'B')`\n",
    "`G.add_edge('C', 'D')`\n",
    "\n",
    "Create **directed networks**:\n",
    "`G = nx.DiGraph()`\n",
    "`G.add_edge('A', 'B')` - goes from A to B\n",
    "`G.add_edge('C', 'D')`\n",
    "\n",
    "\n",
    "### Weighted vs unweighted networks\n",
    "Not all networks are of equal importantance. In **weighted** networks,\n",
    "the edges are assigned a numerical weight that has some meaning in the \n",
    "relationship. To assign, specify an additional weight arg when creating \n",
    "the edges.\n",
    "\n",
    "`G.add_edge('A', 'B', weight = 5)`\n",
    "`G.add_edge('C', 'D', weight = 45)`\n",
    "\n",
    "**Edges** can have many other attributes such as *relation* e.g. family, friend, coworker, \n",
    "\n",
    "\n",
    "### Multigraphs\n",
    "Here, two nodes are connected by multiple edges. E.g. one edge represents \n",
    "`relation = friend`, another `relation = coworker`, yet another`relation = neighbour`.\n",
    "\n",
    "To create a multigraph, instantiate the graph class as a multigraph:\n",
    "\n",
    "`G = nx.MultiGraph()`\n",
    "`G.add_edge('A', 'B', relation = 'coworker')`\n",
    "`G.add_edge('A', 'B', weight = 13, relation = 'family',)` \n",
    "`G.add_edge('A', 'B', relation = 'friend')`"
   ]
  },
  {
   "cell_type": "markdown",
   "metadata": {},
   "source": [
    "## Examples"
   ]
  },
  {
   "cell_type": "code",
   "execution_count": 8,
   "metadata": {},
   "outputs": [],
   "source": [
    "# Creating undirected graphs\n",
    "G = nx.Graph() #creating a graph object\n",
    "G.add_edge('A', 'B') \n",
    "G.add_edge('C', 'D')"
   ]
  },
  {
   "cell_type": "code",
   "execution_count": 10,
   "metadata": {},
   "outputs": [
    {
     "data": {
      "image/png": "[encoded data removed]",
      "text/plain": [
       "<Figure size 300x200 with 1 Axes>"
      ]
     },
     "metadata": {},
     "output_type": "display_data"
    }
   ],
   "source": [
    "# Visualise the graph\n",
    "\n",
    "plt.figure(figsize=(3, 2))\n",
    "nx.draw_networkx(G)"
   ]
  },
  {
   "cell_type": "code",
   "execution_count": 12,
   "metadata": {},
   "outputs": [],
   "source": [
    "# Directed graphs\n",
    "G1 = nx.DiGraph() #creating a graph object\n",
    "G1.add_edge('A', 'B')\n",
    "G1.add_edge('C', 'D')"
   ]
  },
  {
   "cell_type": "code",
   "execution_count": 13,
   "metadata": {},
   "outputs": [
    {
     "data": {
      "image/png": "[encoded data removed]",
      "text/plain": [
       "<Figure size 300x200 with 1 Axes>"
      ]
     },
     "metadata": {},
     "output_type": "display_data"
    }
   ],
   "source": [
    "# Visualise the graph\n",
    "\n",
    "plt.figure(figsize=(3, 2))\n",
    "nx.draw_networkx(G1)"
   ]
  },
  {
   "cell_type": "code",
   "execution_count": 15,
   "metadata": {},
   "outputs": [
    {
     "data": {
      "text/plain": [
       "0"
      ]
     },
     "execution_count": 15,
     "metadata": {},
     "output_type": "execute_result"
    }
   ],
   "source": [
    "# Creating multigraphs\n",
    "G2 = nx.MultiGraph() #creating a graph object\n",
    "G2.add_edge('A', 'B', relation = 'coworker')\n",
    "G2.add_edge('A', 'B', relation = 'flatmate')\n",
    "G2.add_edge('A', 'C', weight = 13, relation = 'family')\n",
    "G2.add_edge('A', 'D', relation = 'friend')\n"
   ]
  },
  {
   "cell_type": "code",
   "execution_count": 17,
   "metadata": {},
   "outputs": [
    {
     "data": {
      "image/png": "[encoded data removed]",
      "text/plain": [
       "<Figure size 400x300 with 1 Axes>"
      ]
     },
     "metadata": {},
     "output_type": "display_data"
    }
   ],
   "source": [
    "# Plotting the multigraph\n",
    "plt.figure(figsize=(4, 3))\n",
    "\n",
    "# Spring layout, might need adjustments\n",
    "pos = nx.spring_layout(G2)\n",
    "\n",
    "# Draw nodes with labels\n",
    "nx.draw_networkx_nodes(G2, pos, node_size=700, node_color=\"skyblue\")\n",
    "nx.draw_networkx_labels(G2, pos, font_size=12, font_family=\"sans-serif\")\n",
    "\n",
    "# Draw edges\n",
    "nx.draw_networkx_edges(G2, pos, width=2, alpha=0.6, edge_color=\"black\")\n",
    "\n",
    "# Draw edge labels separately for each edge\n",
    "for u, v, d in G2.edges(data=True):\n",
    "    for key, attr in d.items():\n",
    "        if key == 'relation':  # Check if the attribute is 'relation'\n",
    "            x = (pos[u][0] + pos[v][0]) / 2  # x-coordinate of label\n",
    "            y = (pos[u][1] + pos[v][1]) / 2  # y-coordinate of label\n",
    "            plt.text(x, y, attr,  # 'attr' is the label itself\n",
    "                     horizontalalignment='center', verticalalignment='center')\n",
    "\n",
    "plt.axis(\"off\")\n",
    "plt.show()"
   ]
  },
  {
   "cell_type": "code",
   "execution_count": 25,
   "metadata": {},
   "outputs": [],
   "source": [
    "# Creating undirected graphs with edge weights\n",
    "G3 = nx.Graph()\n",
    "\n",
    "G3.add_edge('A', 'B', weight = 21)\n",
    "G3.add_edge('C', 'D', weight = 23)"
   ]
  },
  {
   "cell_type": "code",
   "execution_count": 28,
   "metadata": {},
   "outputs": [
    {
     "data": {
      "image/png": "[encoded data removed]",
      "text/plain": [
       "<Figure size 400x300 with 1 Axes>"
      ]
     },
     "metadata": {},
     "output_type": "display_data"
    }
   ],
   "source": [
    "# Visualise the graph\n",
    "\n",
    "# Plotting the graph\n",
    "plt.figure(figsize=(4, 3))\n",
    "\n",
    "# Spring layout, might need adjustments\n",
    "pos = nx.spring_layout(G3)\n",
    "\n",
    "# Draw nodes\n",
    "nx.draw_networkx_nodes(G3, pos, node_size=700, node_color=\"skyblue\")\n",
    "\n",
    "# Draw edges with weights\n",
    "nx.draw_networkx_edges(G3, pos, width=2, alpha=0.6, edge_color=\"black\")\n",
    "labels = nx.get_edge_attributes(G3, 'weight')\n",
    "nx.draw_networkx_edge_labels(G3, pos, edge_labels=labels)\n",
    "\n",
    "# Draw labels for nodes\n",
    "nx.draw_networkx_labels(G3, pos, font_size=12, font_family=\"sans-serif\")\n",
    "\n",
    "plt.axis(\"off\")\n",
    "plt.show()"
   ]
  },
  {
   "cell_type": "markdown",
   "metadata": {},
   "source": [
    "### Accessing Edges and Attributes of the network - undirected case"
   ]
  },
  {
   "cell_type": "code",
   "execution_count": 29,
   "metadata": {},
   "outputs": [
    {
     "data": {
      "text/plain": [
       "[('A', 'B'), ('C', 'D')]"
      ]
     },
     "execution_count": 29,
     "metadata": {},
     "output_type": "execute_result"
    }
   ],
   "source": [
    "# Create a graph object\n",
    "G = nx.Graph()\n",
    "\n",
    "# Add edges and attributes\n",
    "G.add_edge('A', 'B', weight = 5, relation = 'friend')\n",
    "G.add_edge('C', 'D', weight = 13)\n",
    "\n",
    "# List all edges of the network\n",
    "list(G.edges())\n"
   ]
  },
  {
   "cell_type": "code",
   "execution_count": 104,
   "metadata": {},
   "outputs": [
    {
     "data": {
      "text/plain": [
       "[('A', 'B'), ('C', 'D')]"
      ]
     },
     "execution_count": 104,
     "metadata": {},
     "output_type": "execute_result"
    }
   ],
   "source": [
    "# List all edges of a graph\n",
    "list(G.edges)"
   ]
  },
  {
   "cell_type": "code",
   "execution_count": 95,
   "metadata": {},
   "outputs": [
    {
     "data": {
      "text/plain": [
       "[('A', 'B', {'weight': 5, 'relation': 'friend'}), ('C', 'D', {'weight': 13})]"
      ]
     },
     "execution_count": 95,
     "metadata": {},
     "output_type": "execute_result"
    }
   ],
   "source": [
    "# List all edges and attributes\n",
    "list(G.edges(data = True))"
   ]
  },
  {
   "cell_type": "code",
   "execution_count": 43,
   "metadata": {},
   "outputs": [
    {
     "data": {
      "text/plain": [
       "[('E', 'F', 'fam')]"
      ]
     },
     "execution_count": 43,
     "metadata": {},
     "output_type": "execute_result"
    }
   ],
   "source": [
    "\n",
    "# create a graph object\n",
    "G4 = nx.Graph()\n",
    "\n",
    "# Add edges to the graph\n",
    "G4.add_edge('E', 'F', weight = 13, relation = 'fam')\n",
    "\n",
    "# List edges where the edges have a particular attribute\n",
    "list(G4.edges(data = 'relation'))"
   ]
  },
  {
   "cell_type": "code",
   "execution_count": 44,
   "metadata": {},
   "outputs": [
    {
     "data": {
      "text/plain": [
       "{'weight': 5, 'relation': 'friend'}"
      ]
     },
     "execution_count": 44,
     "metadata": {},
     "output_type": "execute_result"
    }
   ],
   "source": [
    "\n",
    "# create a graph object\n",
    "G5 = nx.Graph()\n",
    "\n",
    "# Add edges and attributes\n",
    "G5.add_edge('A', 'B', weight = 5, relation = 'friend')\n",
    "\n",
    "# List attributes of given edges of interest\n",
    "G5.edges['A', 'B']\n",
    "\n",
    "# NOTE: `G5.edges['A', 'B']` will return an error if I created other nodes of G as follows: `G.add_edge('A', 'B', weight = 5, relation = 'friend')`"
   ]
  },
  {
   "cell_type": "code",
   "execution_count": 45,
   "metadata": {},
   "outputs": [
    {
     "data": {
      "text/plain": [
       "5"
      ]
     },
     "execution_count": 45,
     "metadata": {},
     "output_type": "execute_result"
    }
   ],
   "source": [
    "#Create a graph object\n",
    "G6 = nx.Graph()\n",
    "\n",
    "# List attributes of given edges of interest\n",
    "G6.add_edge('P', 'Q', weight = 5, relation = 'friend')\n",
    "\n",
    "# Return named attributes \n",
    "G6.edges['P', 'Q']['weight']"
   ]
  },
  {
   "cell_type": "code",
   "execution_count": 99,
   "metadata": {},
   "outputs": [],
   "source": [
    "# Remove edges from a graph\n",
    "\n",
    "G.remove_edge('A', 'B')"
   ]
  },
  {
   "cell_type": "code",
   "execution_count": 100,
   "metadata": {},
   "outputs": [],
   "source": [
    "G.remove_edge('C', 'D')"
   ]
  },
  {
   "cell_type": "markdown",
   "metadata": {},
   "source": [
    "### Accessing Edges and Attributes of the network - directed graphs"
   ]
  },
  {
   "cell_type": "code",
   "execution_count": 47,
   "metadata": {},
   "outputs": [
    {
     "data": {
      "text/plain": [
       "5"
      ]
     },
     "execution_count": 47,
     "metadata": {},
     "output_type": "execute_result"
    }
   ],
   "source": [
    "#Create a graph object\n",
    "G7 = nx.DiGraph()\n",
    "\n",
    "# Add edges\n",
    "G7.add_edge('P', 'Q', weight = 5, relation = 'friend')\n",
    "\n",
    "# Return named attributes \n",
    "G7.edges['P', 'Q']['weight']\n",
    "\n",
    "# If order of the edges were reversed, an error ensues e.g.\n",
    "# G7.edges['Q', 'P']['weight'] #results in a KeyError 'P'"
   ]
  },
  {
   "cell_type": "markdown",
   "metadata": {},
   "source": [
    "### Accessing Edges and Attributes of the network - Multigraphs"
   ]
  },
  {
   "cell_type": "markdown",
   "metadata": {},
   "source": [
    "#### Undirected Case"
   ]
  },
  {
   "cell_type": "code",
   "execution_count": 48,
   "metadata": {},
   "outputs": [
    {
     "data": {
      "text/plain": [
       "0"
      ]
     },
     "execution_count": 48,
     "metadata": {},
     "output_type": "execute_result"
    }
   ],
   "source": [
    "# Create multigraph object\n",
    "\n",
    "G8 = nx.MultiGraph()\n",
    "\n",
    "# Add edges\n",
    "G8.add_edge('A', 'B', weight = 5, relation = 'friend')\n",
    "G8.add_edge('A', 'B', weight = 12, relation = 'family')\n",
    "G8.add_edge('C', 'B', weight = 7, relation = 'colleague')"
   ]
  },
  {
   "cell_type": "code",
   "execution_count": 110,
   "metadata": {},
   "outputs": [
    {
     "data": {
      "text/plain": [
       "{0: {'weight': 5, 'relation': 'friend'},\n",
       " 1: {'weight': 12, 'relation': 'family'}}"
      ]
     },
     "execution_count": 110,
     "metadata": {},
     "output_type": "execute_result"
    }
   ],
   "source": [
    "# Access edge attributes\n",
    "dict(M['A']['B']) #returns a dictionary of attributes per (A,B) edge"
   ]
  },
  {
   "cell_type": "code",
   "execution_count": 49,
   "metadata": {},
   "outputs": [
    {
     "data": {
      "text/plain": [
       "{'weight': 5, 'relation': 'friend'}"
      ]
     },
     "execution_count": 49,
     "metadata": {},
     "output_type": "execute_result"
    }
   ],
   "source": [
    "# Return specific attribute for a selected edge e.g. first edge [0]\n",
    "\n",
    "# M['A']['B'] # returns attributes for all (A,B) edges\n",
    "\n",
    "G8['A']['B'][0] #returns attributes for the first (A,B) edge\n"
   ]
  },
  {
   "cell_type": "markdown",
   "metadata": {},
   "source": [
    "#### - Directed Case"
   ]
  },
  {
   "cell_type": "code",
   "execution_count": 50,
   "metadata": {},
   "outputs": [
    {
     "data": {
      "text/plain": [
       "0"
      ]
     },
     "execution_count": 50,
     "metadata": {},
     "output_type": "execute_result"
    }
   ],
   "source": [
    "# Create a directed multigraph object\n",
    "G9 = nx.MultiDiGraph()\n",
    "\n",
    "# Add edges and attributes\n",
    "G9.add_edge('A', 'B', weight = 5, relation = 'friend')\n",
    "G9.add_edge('A', 'B', weight = 12, relation = 'family')\n",
    "G9.add_edge('C', 'B', weight = 6, relation = 'colleague')\n"
   ]
  },
  {
   "cell_type": "code",
   "execution_count": 51,
   "metadata": {},
   "outputs": [
    {
     "data": {
      "text/plain": [
       "OutMultiEdgeView([('A', 'B', 0), ('A', 'B', 1), ('C', 'B', 0)])"
      ]
     },
     "execution_count": 51,
     "metadata": {},
     "output_type": "execute_result"
    }
   ],
   "source": [
    "G9.edges"
   ]
  },
  {
   "cell_type": "code",
   "execution_count": 52,
   "metadata": {},
   "outputs": [
    {
     "data": {
      "text/plain": [
       "5"
      ]
     },
     "execution_count": 52,
     "metadata": {},
     "output_type": "execute_result"
    }
   ],
   "source": [
    "# Access edges and attributes\n",
    "G9['A']['B'][0]['weight']"
   ]
  },
  {
   "cell_type": "code",
   "execution_count": 53,
   "metadata": {},
   "outputs": [],
   "source": [
    "# Access edges - inverse direction\n",
    "# G9['B']['A'][0]['weight'] #KeyError 'A' due to directed case"
   ]
  },
  {
   "cell_type": "code",
   "execution_count": null,
   "metadata": {},
   "outputs": [],
   "source": []
  },
  {
   "cell_type": "markdown",
   "metadata": {},
   "source": [
    "## Attributes of Nodes\n",
    "\n",
    "It's possible to add attributes of nodes, instead of just those of edges. Note that so far, nodes have been created implictly through\n",
    "the creation of edges. To add attributes however, the nodes need to be created explicitly."
   ]
  },
  {
   "cell_type": "code",
   "execution_count": 54,
   "metadata": {},
   "outputs": [],
   "source": [
    "# Create a graph object\n",
    "G0 = nx.Graph()\n",
    "\n",
    "# Add edges and attributes\n",
    "G0.add_edge('A', 'B', weight = 5, relation = 'friend')\n",
    "G0.add_edge('B', 'C', weight = 13, relation = 'family')\n",
    "\n",
    "# Add node attributes\n",
    "G0.add_node('A', role = 'scientist')\n",
    "G0.add_node('B', role = 'teacher')\n",
    "G0.add_node('C', role = 'banker')\n",
    "\n"
   ]
  },
  {
   "cell_type": "markdown",
   "metadata": {},
   "source": [
    "### Accessing node attributes"
   ]
  },
  {
   "cell_type": "code",
   "execution_count": 55,
   "metadata": {},
   "outputs": [
    {
     "data": {
      "text/plain": [
       "NodeView(('A', 'B', 'C'))"
      ]
     },
     "execution_count": 55,
     "metadata": {},
     "output_type": "execute_result"
    }
   ],
   "source": [
    "# List all nodes\n",
    "G0.nodes"
   ]
  },
  {
   "cell_type": "code",
   "execution_count": 56,
   "metadata": {},
   "outputs": [
    {
     "data": {
      "text/plain": [
       "NodeDataView({'A': {'role': 'scientist'}, 'B': {'role': 'teacher'}, 'C': {'role': 'banker'}})"
      ]
     },
     "execution_count": 56,
     "metadata": {},
     "output_type": "execute_result"
    }
   ],
   "source": [
    "# List nodes and node attributes\n",
    "G0.nodes(data=True)"
   ]
  },
  {
   "cell_type": "code",
   "execution_count": 57,
   "metadata": {},
   "outputs": [
    {
     "data": {
      "text/plain": [
       "[('A', {'role': 'scientist'}),\n",
       " ('B', {'role': 'teacher'}),\n",
       " ('C', {'role': 'banker'})]"
      ]
     },
     "execution_count": 57,
     "metadata": {},
     "output_type": "execute_result"
    }
   ],
   "source": [
    "# List nodes and node attributes\n",
    "list(G0.nodes(data=True))"
   ]
  },
  {
   "cell_type": "code",
   "execution_count": 58,
   "metadata": {},
   "outputs": [
    {
     "data": {
      "text/plain": [
       "'scientist'"
      ]
     },
     "execution_count": 58,
     "metadata": {},
     "output_type": "execute_result"
    }
   ],
   "source": [
    "# Access role of a particular node\n",
    "G0.nodes['A']['role']"
   ]
  },
  {
   "cell_type": "code",
   "execution_count": null,
   "metadata": {},
   "outputs": [],
   "source": []
  },
  {
   "cell_type": "markdown",
   "metadata": {},
   "source": [
    "### Bipartite Graphs\n",
    "These are graphs whose nodes can be split into two sets, L and R, such that every edge connects a node in L with a node in R.\n"
   ]
  },
  {
   "cell_type": "code",
   "execution_count": 5,
   "metadata": {},
   "outputs": [],
   "source": [
    "# Building bipartite graphs\n",
    "#NetworkX doesn't have a specific class for bipartite graphs, but it has a set of algorithms to facilitate their\n",
    "# study and analysis\n",
    "\n",
    "from networkx.algorithms import bipartite\n",
    "\n",
    "# Create a graph class - generic graph class since no specific class for bipartites\n",
    "B = nx.Graph()\n",
    "B.add_nodes_from(['A', 'B', 'C', 'D', 'E'], bipartite=0) #use add_nodes_from syntax to create nodes from a list and add bipartite arg\n",
    "B.add_nodes_from([1, 2, 3, 4], bipartite=1)\n",
    "B.add_edges_from([('A', 1), ('B', 1), ('C', 1), ('C', 3), ('D', 2), ('E', 3), ('E', 4)]) #multiple edges can go from nodes in one set\n",
    "# to a node in another set"
   ]
  },
  {
   "cell_type": "code",
   "execution_count": 30,
   "metadata": {},
   "outputs": [
    {
     "data": {
      "image/png": "[encoded data removed]",
      "text/plain": [
       "<Figure size 400x300 with 1 Axes>"
      ]
     },
     "metadata": {},
     "output_type": "display_data"
    }
   ],
   "source": [
    "\n",
    "# Visualise the graph\n",
    "plt.figure(figsize=(4, 3))\n",
    "\n",
    "# Using bipartite layout\n",
    "pos = nx.bipartite_layout(B, ['A', 'B', 'C', 'D', 'E'])  \n",
    "\n",
    "# Draw nodes with different colors for each set\n",
    "nx.draw_networkx_nodes(B, pos, nodelist=['A', 'B', 'C', 'D', 'E'], node_color='b', node_size=700)\n",
    "nx.draw_networkx_nodes(B, pos, nodelist=[1, 2, 3, 4], node_color='r', node_size=700)\n",
    "\n",
    "# Draw edges\n",
    "nx.draw_networkx_edges(B, pos, width=2, alpha=0.6, edge_color=\"black\")\n",
    "\n",
    "# Draw labels for nodes\n",
    "nx.draw_networkx_labels(B, pos, font_size=12, font_family=\"sans-serif\")\n",
    "\n",
    "plt.axis(\"off\")\n",
    "plt.show()"
   ]
  },
  {
   "cell_type": "code",
   "execution_count": 62,
   "metadata": {},
   "outputs": [
    {
     "data": {
      "text/plain": [
       "NodeView(('A', 'B', 'C', 'D', 'E', 1, 2, 3, 4))"
      ]
     },
     "execution_count": 62,
     "metadata": {},
     "output_type": "execute_result"
    }
   ],
   "source": [
    "B.nodes"
   ]
  },
  {
   "cell_type": "code",
   "execution_count": 63,
   "metadata": {},
   "outputs": [
    {
     "data": {
      "text/plain": [
       "EdgeView([('A', 1), ('B', 1), ('C', 1), ('C', 3), ('D', 2), ('E', 3), ('E', 4)])"
      ]
     },
     "execution_count": 63,
     "metadata": {},
     "output_type": "execute_result"
    }
   ],
   "source": [
    "B.edges"
   ]
  },
  {
   "cell_type": "code",
   "execution_count": 64,
   "metadata": {},
   "outputs": [
    {
     "data": {
      "text/plain": [
       "True"
      ]
     },
     "execution_count": 64,
     "metadata": {},
     "output_type": "execute_result"
    }
   ],
   "source": [
    "# Check if a graph is bipartite\n",
    "bipartite.is_bipartite(B)"
   ]
  },
  {
   "cell_type": "code",
   "execution_count": 65,
   "metadata": {},
   "outputs": [
    {
     "data": {
      "text/plain": [
       "True"
      ]
     },
     "execution_count": 65,
     "metadata": {},
     "output_type": "execute_result"
    }
   ],
   "source": [
    "# Check if a set of nodes is a bipartition of the graph e.g.\n",
    "X = set([1,2,3,4])\n",
    "\n",
    "# check if X is a bipartition of B\n",
    "bipartite.is_bipartite_node_set(B, X)\n"
   ]
  },
  {
   "cell_type": "code",
   "execution_count": 67,
   "metadata": {},
   "outputs": [],
   "source": [
    "# Check the sets in a bipartite graph\n",
    "# bipartite.sets(B)"
   ]
  },
  {
   "cell_type": "code",
   "execution_count": 68,
   "metadata": {},
   "outputs": [
    {
     "data": {
      "text/plain": [
       "[{1, 3, 4, 'A', 'B', 'C', 'E'}, {2, 'D'}]"
      ]
     },
     "execution_count": 68,
     "metadata": {},
     "output_type": "execute_result"
    }
   ],
   "source": [
    "list(nx.connected_components(B))"
   ]
  },
  {
   "cell_type": "markdown",
   "metadata": {},
   "source": [
    "### Properties of Bipartite Graphs\n",
    "\n"
   ]
  },
  {
   "cell_type": "markdown",
   "metadata": {},
   "source": [
    "#### Projected (Bipartite) Graphs\n",
    "Create graphs based on relationships that exist in bipartite graphs. E.g. if set L above (`A - E') represent fans and set R represent teams,\n",
    "projections can be used to link fans who like the same teams, or link teams supported by the same fans. This could be important for \n",
    "marketing: fans supporting the same teams are likely to like same or similar products!\n",
    "\n",
    "So, we have:\n",
    "*L-Bipartite graph projection*: network of nodes in L whereby a pair of nodes is connected if they have a common neighbour\n",
    "in R in the bipartite graph. See the following cells for how to create projections.\n"
   ]
  },
  {
   "cell_type": "code",
   "execution_count": 32,
   "metadata": {},
   "outputs": [],
   "source": [
    "# Create projected graphs from bipartite graphs\n",
    "\n",
    "# Create a graph class\n",
    "H = nx.Graph()\n",
    "\n",
    "# add edges from a list of tuples\n",
    "H.add_edges_from([('A', 1),\n",
    "                  ('B', 1),\n",
    "                  ('C', 1),\n",
    "                  ('D', 1),\n",
    "                  ('H', 1),\n",
    "                  ('B', 2),\n",
    "                  ('C', 2),\n",
    "                  ('D', 2),\n",
    "                  ('E', 2),\n",
    "                  ('G', 2),\n",
    "                  ('E', 3),\n",
    "                  ('F', 3),\n",
    "                  ('H', 3),\n",
    "                  ('J', 3),\n",
    "                  ('E', 4),\n",
    "                  ('I', 4),\n",
    "                  ('J', 4)\n",
    "])\n",
    "\n",
    "# Create set of nodes of the L graph\n",
    "X = set(['A', 'B', 'C', 'D', 'E', 'F', 'G', 'H', 'I', 'J'])\n",
    "\n",
    "# Project the graph \n",
    "P = bipartite.projected_graph(H, X)"
   ]
  },
  {
   "cell_type": "code",
   "execution_count": 71,
   "metadata": {},
   "outputs": [
    {
     "data": {
      "image/png": "[encoded data removed]",
      "text/plain": [
       "<Figure size 400x200 with 1 Axes>"
      ]
     },
     "metadata": {},
     "output_type": "display_data"
    }
   ],
   "source": [
    "# Plot the graph\n",
    "plt.figure(figsize=(4, 2))\n",
    "nx.draw(P, with_labels=True, font_weight='bold') #uses the default spring_layout\n",
    "plt.show()"
   ]
  },
  {
   "cell_type": "code",
   "execution_count": 33,
   "metadata": {},
   "outputs": [],
   "source": [
    "# Create a network of the teams using a projection of the teams set\n",
    "X = set([1,2,3,4])\n",
    "P = P = bipartite.projected_graph(H, X)"
   ]
  },
  {
   "cell_type": "code",
   "execution_count": 8,
   "metadata": {},
   "outputs": [
    {
     "data": {
      "image/png": "[encoded data removed]",
      "text/plain": [
       "<Figure size 400x200 with 1 Axes>"
      ]
     },
     "metadata": {},
     "output_type": "display_data"
    }
   ],
   "source": [
    "# Plot the graph\n",
    "plt.figure(figsize=(4, 2))\n",
    "nx.draw(P, with_labels=True, font_weight='bold')\n",
    "plt.show()"
   ]
  },
  {
   "cell_type": "markdown",
   "metadata": {},
   "source": [
    "#### L-Bipartite Weighted Graph Projection\n",
    "This is used to represent an L-Bipartite Graph Projection with weights on the edges that are proportional to the common neighbours\n",
    "between the nodes. E.g. to represent how many fans a team has in common."
   ]
  },
  {
   "cell_type": "code",
   "execution_count": 34,
   "metadata": {},
   "outputs": [],
   "source": [
    "# L-Bipartite Weighted Graph Projection\n",
    "\n",
    "# create the projection set\n",
    "X = set([1,2,3,4])\n",
    "P = bipartite.weighted_projected_graph(H, X)\n"
   ]
  },
  {
   "cell_type": "code",
   "execution_count": 35,
   "metadata": {},
   "outputs": [
    {
     "data": {
      "image/png": "[encoded data removed]",
      "text/plain": [
       "<Figure size 400x300 with 1 Axes>"
      ]
     },
     "metadata": {},
     "output_type": "display_data"
    }
   ],
   "source": [
    "# Visualise the weighted projected graph P\n",
    "plt.figure(figsize=(4, 3))\n",
    "\n",
    "# Using spring layout\n",
    "pos_P = nx.spring_layout(P)\n",
    "\n",
    "# Draw the nodes\n",
    "nx.draw_networkx_nodes(P, pos_P, node_size=700, node_color=\"magenta\")\n",
    "\n",
    "# Draw edges with weights\n",
    "nx.draw_networkx_edges(P, pos_P, width=2, alpha=0.6, edge_color=\"black\")\n",
    "\n",
    "# Draw edge labels with weights\n",
    "edge_labels = {(u, v): d['weight'] for u, v, d in P.edges(data=True)}\n",
    "nx.draw_networkx_edge_labels(P, pos_P, edge_labels=edge_labels, font_color='red')\n",
    "\n",
    "# Draw  node labels\n",
    "nx.draw_networkx_labels(P, pos_P, font_size=12, font_family=\"sans-serif\")\n",
    "\n",
    "plt.title('Weighted projected Graph')\n",
    "plt.axis(\"off\")\n",
    "plt.show()"
   ]
  },
  {
   "cell_type": "code",
   "execution_count": 1,
   "metadata": {},
   "outputs": [],
   "source": [
    "# # Creating and evaluating multigraphs example\n",
    " \n",
    "# G=nx.MultiGraph()\n",
    "# G.add_node('A',role='manager')\n",
    "# G.add_edge('A','B',relation = 'friend')\n",
    "# G.add_edge('A','C', relation = 'business partner')\n",
    "# G.add_edge('A','B', relation = 'classmate')\n",
    "# G.nodes['A']['role'] = 'team member'\n",
    "# G.nodes['B']['role'] = 'engineer'"
   ]
  },
  {
   "cell_type": "code",
   "execution_count": 2,
   "metadata": {},
   "outputs": [],
   "source": [
    "# G['A']['B'][0]['relation']"
   ]
  },
  {
   "cell_type": "code",
   "execution_count": null,
   "metadata": {},
   "outputs": [],
   "source": []
  }
 ],
 "metadata": {
  "kernelspec": {
   "display_name": "Python 3",
   "language": "python",
   "name": "python3"
  },
  "language_info": {
   "codemirror_mode": {
    "name": "ipython",
    "version": 3
   },
   "file_extension": ".py",
   "mimetype": "text/x-python",
   "name": "python",
   "nbconvert_exporter": "python",
   "pygments_lexer": "ipython3",
   "version": "3.8.10"
  }
 },
 "nbformat": 4,
 "nbformat_minor": 4
}
