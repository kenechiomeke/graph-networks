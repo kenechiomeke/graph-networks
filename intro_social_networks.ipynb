{
 "cells": [
  {
   "cell_type": "markdown",
   "metadata": {},
   "source": [
    "## Social Networks Analysis in Python"
   ]
  },
  {
   "cell_type": "markdown",
   "metadata": {},
   "source": [
    "### Why Study Networks?\n",
    "\n",
    "* Centrality in networks can be used to model the impact of a node \n",
    "in the network. For instance, how likely a shock events starts will be\n",
    "widespread depending on the node from whence it started, such as if the\n",
    "node is at the centre of the network vs if it were towards the edges.\n",
    "A culture event could be a conflict, lockdown, etc.\n",
    "E.g. if there is an outbreak, which airports, train/bus stations should be locked down to curtail spread?\n",
    "\n"
   ]
  },
  {
   "cell_type": "code",
   "execution_count": 3,
   "metadata": {},
   "outputs": [
    {
     "name": "stdout",
     "output_type": "stream",
     "text": [
      "^C\n"
     ]
    }
   ],
   "source": [
    "!pip install networkx[default]"
   ]
  },
  {
   "cell_type": "code",
   "execution_count": 5,
   "metadata": {},
   "outputs": [
    {
     "name": "stdout",
     "output_type": "stream",
     "text": [
      "Python 3.8.3\n"
     ]
    }
   ],
   "source": [
    "!python --version"
   ]
  },
  {
   "cell_type": "code",
   "execution_count": null,
   "metadata": {},
   "outputs": [],
   "source": []
  },
  {
   "cell_type": "code",
   "execution_count": 2,
   "metadata": {},
   "outputs": [],
   "source": [
    "# import networkx as nx"
   ]
  },
  {
   "cell_type": "markdown",
   "metadata": {},
   "source": [
    "#### Directed vs undirected networks\n",
    "\n",
    "In directed networks, the order matters e.g. graph of eployees in a company and the number of emails sent. Since email represents sender/receiver relationship, it is directed.\n",
    "\n",
    "In undirected networks, the relationship is symmetrical and order is not important.\n",
    "\n",
    "To create **undirected networks**:\n",
    "\n",
    "`G = nx.Graph()`\n",
    "\n",
    "Add edges -- this automatically creates the nodes in nx\n",
    "\n",
    "`G.add_edge('A', 'B')`\n",
    "`G.add_edge('C', 'D')`\n",
    "\n",
    "Create **directed networks**:\n",
    "`G = nx.DiGraph()`\n",
    "`G.add_edge('A', 'B')` - goes from A to B\n",
    "`G.add_edge('C', 'D')`"
   ]
  },
  {
   "cell_type": "code",
   "execution_count": null,
   "metadata": {},
   "outputs": [],
   "source": []
  },
  {
   "cell_type": "markdown",
   "metadata": {},
   "source": [
    "#### Weighted vs unweighted networks\n",
    "\n",
    "Not all networks are of equal importantance. In **weighted** networks,\n",
    "the edges are assigned a numerical weight that has some meaning in the \n",
    "relationship. To assign, specify an additional weight arg when creating \n",
    "the edges.\n",
    "\n",
    "`G.add_edge('A', 'B', weight = 5)`\n",
    "`G.add_edge('C', 'D', weight = 45)`\n",
    "\n",
    "**Edges** can have many other attributes such as *relation* e.g. family, friend, coworker, "
   ]
  },
  {
   "cell_type": "markdown",
   "metadata": {},
   "source": [
    "#### Multigraphs\n",
    "Here, two nodes are connected by multiple edges. E.g. one edge represents \n",
    "`relation = friend`, another `relation = coworker`, yet another`relation = neighbour`.\n",
    "\n",
    "To create a multigraph, instantiate the graph class as a multigraph:\n",
    "\n",
    "`G = nx.MultiGraph()`\n",
    "`G.add_edge('A', 'B', relation = 'coworker')`\n",
    "`G.add_edge('A', 'B', weight = 13, relation = 'family',)` \n",
    "`G.add_edge('A', 'B', relation = 'friend')`"
   ]
  },
  {
   "cell_type": "code",
   "execution_count": null,
   "metadata": {},
   "outputs": [],
   "source": []
  }
 ],
 "metadata": {
  "kernelspec": {
   "display_name": "Python 3",
   "language": "python",
   "name": "python3"
  },
  "language_info": {
   "codemirror_mode": {
    "name": "ipython",
    "version": 3
   },
   "file_extension": ".py",
   "mimetype": "text/x-python",
   "name": "python",
   "nbconvert_exporter": "python",
   "pygments_lexer": "ipython3",
   "version": "3.8.3"
  }
 },
 "nbformat": 4,
 "nbformat_minor": 4
}
